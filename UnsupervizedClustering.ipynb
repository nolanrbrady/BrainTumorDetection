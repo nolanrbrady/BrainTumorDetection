{
 "cells": [
  {
   "cell_type": "code",
   "execution_count": 1,
   "id": "55127cc9-6d82-4a99-b6a3-37368b2f732e",
   "metadata": {},
   "outputs": [
    {
     "name": "stderr",
     "output_type": "stream",
     "text": [
      "2023-01-10 15:27:34.045198: I tensorflow/core/platform/cpu_feature_guard.cc:193] This TensorFlow binary is optimized with oneAPI Deep Neural Network Library (oneDNN) to use the following CPU instructions in performance-critical operations:  AVX2 FMA\n",
      "To enable them in other operations, rebuild TensorFlow with the appropriate compiler flags.\n"
     ]
    }
   ],
   "source": [
    "import os\n",
    "import tensorflow as tf\n",
    "import numpy as np\n",
    "import matplotlib.pyplot as plt\n",
    "from tensorflow.keras import layers\n",
    "from tensorflow import keras\n",
    "from sklearn.cluster import KMeans"
   ]
  },
  {
   "cell_type": "code",
   "execution_count": 2,
   "id": "c3119f71-7e69-4a0c-bf61-8973969fac76",
   "metadata": {},
   "outputs": [
    {
     "name": "stdout",
     "output_type": "stream",
     "text": [
      "70000\n"
     ]
    }
   ],
   "source": [
    "# from keras.datasets import mnist\n",
    "\n",
    "# (x_train, y_train), (x_test, y_test) = mnist.load_data()\n",
    "\n",
    "# x = np.concatenate((x_train, x_test))\n",
    "# y = np.concatenate((y_train, y_test))\n",
    "# x = x.reshape((x.shape[0], -1))\n",
    "# x = np.divide(x, 255.)\n",
    "\n",
    "# print(len(x))"
   ]
  },
  {
   "cell_type": "code",
   "execution_count": 24,
   "id": "e01973fb-a539-4093-b646-ad164bf45413",
   "metadata": {},
   "outputs": [
    {
     "name": "stdout",
     "output_type": "stream",
     "text": [
      "9\n",
      "9\n"
     ]
    }
   ],
   "source": [
    "folders = ['yes', 'no']\n",
    "exclude = ['.ipynb_checkpoints', '.DS_Store']\n",
    "images = []\n",
    "\n",
    "cluster_center = []\n",
    "labels = []\n",
    "ratio = []\n",
    "\n",
    "n_clusters = 2\n",
    "\n",
    "# Runs in parallel 4 CPUs\n",
    "kmeans = KMeans(n_clusters=n_clusters, n_init=20)\n",
    "\n",
    "for folder in folders:\n",
    "    for image in os.listdir(f'./BrainTumorsData/brain_tumor_dataset/{folder}')[0:5]:\n",
    "        if image not in exclude:\n",
    "            # print(image)\n",
    "            img = tf.keras.utils.load_img(f'./BrainTumorsData/brain_tumor_dataset/{folder}/{image}')\n",
    "            img_array = tf.keras.utils.img_to_array(img)\n",
    "            # img_array = np.array([img_array])\n",
    "            # img_array = img_array.flatten()\n",
    "            x, y, z = img_array.shape\n",
    "            img_2d = img_array.reshape(x*y, z)\n",
    "            # img_array = img_array.reshape((img_array.shape[0], -1))\n",
    "            # img_array = np.divide(img_array, 255.)\n",
    "            pred = kmeans.fit(img_2d)\n",
    "            cluster_center.append(pred.cluster_centers_)\n",
    "            labels.append(pred.labels_)\n",
    "            ratio.append({x, y, z})\n",
    "            # images.append(pred)\n",
    "\n",
    "print(len(cluster_center))\n",
    "print(len(labels))"
   ]
  },
  {
   "cell_type": "code",
   "execution_count": 25,
   "id": "338d7392-6ed5-4388-91f2-452b0a610c53",
   "metadata": {},
   "outputs": [
    {
     "name": "stdout",
     "output_type": "stream",
     "text": [
      "[{938, 3, 911}, {256, 3}, {3, 586, 467}, {512, 3}, {320, 3, 355}, {1080, 3, 1920}, {361, 642, 3}, {512, 3}, {225, 3}]\n",
      "938 3 911\n"
     ]
    }
   ],
   "source": [
    "print(ratio)\n",
    "x, y, z = ratio[0]\n",
    "print(x, y, z)"
   ]
  },
  {
   "cell_type": "code",
   "execution_count": 29,
   "id": "8af52dd7-a313-4915-b05d-36a55ac2808f",
   "metadata": {},
   "outputs": [
    {
     "name": "stderr",
     "output_type": "stream",
     "text": [
      "Clipping input data to the valid range for imshow with RGB data ([0..1] for floats or [0..255] for integers).\n"
     ]
    },
    {
     "name": "stdout",
     "output_type": "stream",
     "text": [
      "2563554\n",
      "938 3 911\n"
     ]
    },
    {
     "ename": "ValueError",
     "evalue": "not enough values to unpack (expected 3, got 2)",
     "output_type": "error",
     "traceback": [
      "\u001b[0;31m---------------------------------------------------------------------------\u001b[0m",
      "\u001b[0;31mValueError\u001b[0m                                Traceback (most recent call last)",
      "\u001b[0;32m/var/folders/f_/0f3gmdgs0db0f5gf8gg2874c0000gn/T/ipykernel_98407/2096541435.py\u001b[0m in \u001b[0;36m<module>\u001b[0;34m\u001b[0m\n\u001b[1;32m      2\u001b[0m     \u001b[0mc\u001b[0m \u001b[0;34m=\u001b[0m \u001b[0mcluster_center\u001b[0m\u001b[0;34m[\u001b[0m\u001b[0mi\u001b[0m\u001b[0;34m]\u001b[0m\u001b[0;34m\u001b[0m\u001b[0;34m\u001b[0m\u001b[0m\n\u001b[1;32m      3\u001b[0m     \u001b[0ml\u001b[0m \u001b[0;34m=\u001b[0m \u001b[0mlabels\u001b[0m\u001b[0;34m[\u001b[0m\u001b[0mi\u001b[0m\u001b[0;34m]\u001b[0m\u001b[0;34m\u001b[0m\u001b[0;34m\u001b[0m\u001b[0m\n\u001b[0;32m----> 4\u001b[0;31m     \u001b[0mx\u001b[0m\u001b[0;34m,\u001b[0m \u001b[0my\u001b[0m\u001b[0;34m,\u001b[0m \u001b[0mz\u001b[0m \u001b[0;34m=\u001b[0m \u001b[0mratio\u001b[0m\u001b[0;34m[\u001b[0m\u001b[0mi\u001b[0m\u001b[0;34m]\u001b[0m\u001b[0;34m\u001b[0m\u001b[0;34m\u001b[0m\u001b[0m\n\u001b[0m\u001b[1;32m      5\u001b[0m     \u001b[0mprint\u001b[0m\u001b[0;34m(\u001b[0m\u001b[0mc\u001b[0m\u001b[0;34m[\u001b[0m\u001b[0ml\u001b[0m\u001b[0;34m]\u001b[0m\u001b[0;34m.\u001b[0m\u001b[0msize\u001b[0m\u001b[0;34m)\u001b[0m\u001b[0;34m\u001b[0m\u001b[0;34m\u001b[0m\u001b[0m\n\u001b[1;32m      6\u001b[0m     \u001b[0mplt\u001b[0m\u001b[0;34m.\u001b[0m\u001b[0mfigure\u001b[0m\u001b[0;34m(\u001b[0m\u001b[0mfigsize\u001b[0m \u001b[0;34m=\u001b[0m \u001b[0;34m(\u001b[0m\u001b[0;36m15\u001b[0m\u001b[0;34m,\u001b[0m\u001b[0;36m8\u001b[0m\u001b[0;34m)\u001b[0m\u001b[0;34m)\u001b[0m\u001b[0;34m\u001b[0m\u001b[0;34m\u001b[0m\u001b[0m\n",
      "\u001b[0;31mValueError\u001b[0m: not enough values to unpack (expected 3, got 2)"
     ]
    },
    {
     "data": {
      "image/png": "[encoded data removed]",
      "text/plain": [
       "<Figure size 1500x800 with 1 Axes>"
      ]
     },
     "metadata": {},
     "output_type": "display_data"
    }
   ],
   "source": [
    "\n",
    "for i in range(2):\n",
    "    c = cluster_center[i]\n",
    "    l = labels[i]\n",
    "    x, y, z = ratio[i]\n",
    "    print(c[l].size)\n",
    "    plt.figure(figsize = (15,8))\n",
    "    print(x,y,z)\n",
    "    plt.imshow(c[l].reshape(x)\n",
    "    \n",
    "# img = tf.keras.utils.load_img(f'./BrainTumorsData/brain_tumor_dataset/yes/Y100.jpg')\n",
    "# img_array = tf.keras.utils.img_to_array(img)\n",
    "# img_array = np.array([img_array])\n",
    "# print(img_array)"
   ]
  }
 ],
 "metadata": {
  "kernelspec": {
   "display_name": "Python 3 (ipykernel)",
   "language": "python",
   "name": "python3"
  },
  "language_info": {
   "codemirror_mode": {
    "name": "ipython",
    "version": 3
   },
   "file_extension": ".py",
   "mimetype": "text/x-python",
   "name": "python",
   "nbconvert_exporter": "python",
   "pygments_lexer": "ipython3",
   "version": "3.9.13"
  }
 },
 "nbformat": 4,
 "nbformat_minor": 5
}
