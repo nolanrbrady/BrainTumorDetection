{
 "cells": [
  {
   "cell_type": "code",
   "execution_count": 33,
   "id": "143199df-9147-40b4-84c3-5a6e90984974",
   "metadata": {},
   "outputs": [],
   "source": [
    "import pandas as pd\n",
    "import numpy as np\n",
    "\n",
    "# Packages for Image clustering\n",
    "from collections import defaultdict\n",
    "import random\n",
    "import numpy as np\n",
    "import tensorflow as tf\n",
    "import tensorflow_addons as tfa\n",
    "from tensorflow import keras\n",
    "from tensorflow.keras import layers\n",
    "import matplotlib.pyplot as plt\n",
    "from matplotlib.colors import ListedColormap\n",
    "from tqdm import tqdm\n",
    "\n",
    "\n",
    "# Sklearn Packages\n",
    "from sklearn.cluster import KMeans\n",
    "from sklearn import preprocessing\n",
    "from sklearn.model_selection import train_test_split\n",
    "from sklearn.neural_network import MLPClassifier\n",
    "from sklearn.model_selection import GridSearchCV\n",
    "from sklearn.cluster import DBSCAN\n",
    "from sklearn.decomposition import PCA\n",
    "\n",
    "import pandas as pd\n",
    "import numpy as np\n",
    "from tqdm import tqdm\n",
    "import os\n",
    "import shutil\n",
    "from sklearn.cluster import KMeans"
   ]
  },
  {
   "cell_type": "code",
   "execution_count": 2,
   "id": "ec1b8027-b279-42cb-9305-b01f9737c88a",
   "metadata": {},
   "outputs": [],
   "source": [
    "# Import the Dataset\n",
    "# CDR --> Clinical Dementia rating\n",
    "# MMSE --> Mini mental state evaluation\n",
    "# SES --> socioeconomic status\n",
    "# eTIV --> Estimated intracranial volume\n",
    "# nWBV --> normalize whole brain volume\n",
    "cross_section = pd.read_csv('./AlzheimersDataset/oasis_cross-sectional.csv')\n",
    "longitudinal = pd.read_csv('./AlzheimersDataset/oasis_longitudinal.csv')"
   ]
  },
  {
   "cell_type": "code",
   "execution_count": null,
   "id": "415a5f3e-0b13-44c8-89da-4ef7267b9c6e",
   "metadata": {},
   "outputs": [],
   "source": [
    "# Clean the NaN data\n",
    "longitudinal = longitudinal.dropna()\n",
    "longitudinal.pop('Subject ID')\n",
    "longitudinal.pop('MRI ID')"
   ]
  },
  {
   "cell_type": "code",
   "execution_count": 4,
   "id": "e0390c9a-eb54-459c-b1da-477ac86511ff",
   "metadata": {},
   "outputs": [],
   "source": [
    "# Convert Categorical columns to numeric\n",
    "columns = ['M/F', 'Hand']\n",
    "# columns = ['M/F', 'Group', 'Hand']\n",
    "\n",
    "# M = 0; F = 1\n",
    "# Nondemented = 0; Demented = 1\n",
    "# Right handed = 0\n",
    "\n",
    "y = longitudinal.pop('Group')\n",
    "\n",
    "for column in columns:\n",
    "    longitudinal[column] = pd.factorize(longitudinal[column])[0]\n",
    "\n",
    "x = longitudinal"
   ]
  },
  {
   "cell_type": "code",
   "execution_count": 5,
   "id": "06b1e35b-365c-4207-8df8-6a5691770623",
   "metadata": {},
   "outputs": [
    {
     "name": "stdout",
     "output_type": "stream",
     "text": [
      "283 71 283 71\n"
     ]
    }
   ],
   "source": [
    "# Split the dataset\n",
    "X_train, X_test, y_train, y_test = train_test_split(x, y, test_size=0.2, random_state=42)\n",
    "\n",
    "print(len(X_train), len(X_test), len(y_train), len(y_test))"
   ]
  },
  {
   "cell_type": "code",
   "execution_count": 6,
   "id": "c7708a23-b40d-49a8-8074-e11cbd658b4f",
   "metadata": {},
   "outputs": [],
   "source": [
    "# Scaling X_train\n",
    "scaler = preprocessing.StandardScaler().fit(X_train)\n",
    "\n",
    "X_scaled = scaler.transform(X_train)\n"
   ]
  },
  {
   "cell_type": "code",
   "execution_count": 7,
   "id": "10dba14c-e6cc-4a9c-adb3-7e4d45b00ad1",
   "metadata": {},
   "outputs": [],
   "source": [
    "# Find the best combinationo of parameters for the algorithm\n",
    "\n",
    "# param_grid = [\n",
    "#         {\n",
    "#             'activation' : ['identity', 'logistic', 'tanh', 'relu'],\n",
    "#             'solver' : ['lbfgs', 'sgd', 'adam'],\n",
    "#             'hidden_layer_sizes': [\n",
    "#              (1,),(2,),(3,),(4,),(5,),(6,),(7,),(8,),(9,),(10,),(11,), (12,),(13,),(14,),(15,),(16,),(17,),(18,),(19,),(20,),(21,)\n",
    "#              ]\n",
    "#         }\n",
    "#        ]\n",
    "\n",
    "\n",
    "# clf = GridSearchCV(MLPClassifier(max_iter=5000), param_grid, cv=3, scoring='accuracy')\n",
    "\n",
    "# clf.fit(X_scaled, y_train)\n",
    "\n",
    "# print(\"Best parameters set found on development set:\")\n",
    "# print(clf.best_params_)\n",
    "\n",
    "# ---------- RETURNS ------------------\n",
    "# Best parameters set found on development set:\n",
    "# {'activation': 'identity', 'hidden_layer_sizes': (16,), 'solver': 'sgd'}\n"
   ]
  },
  {
   "cell_type": "code",
   "execution_count": 8,
   "id": "eb8af73e-e24e-4956-ba7b-03b499180b4b",
   "metadata": {},
   "outputs": [
    {
     "data": {
      "text/plain": [
       "MLPClassifier(activation='identity', hidden_layer_sizes=(16,), max_iter=5000,\n",
       "              random_state=1, solver='sgd')"
      ]
     },
     "execution_count": 8,
     "metadata": {},
     "output_type": "execute_result"
    }
   ],
   "source": [
    "clf = MLPClassifier(activation='identity', solver='sgd', hidden_layer_sizes=(16,), random_state=1, max_iter=5000)\n",
    "\n",
    "clf.fit(X_scaled, y_train)"
   ]
  },
  {
   "cell_type": "code",
   "execution_count": 10,
   "id": "bab4706b-6577-42bc-8d72-419cb36668d6",
   "metadata": {},
   "outputs": [
    {
     "name": "stdout",
     "output_type": "stream",
     "text": [
      "accuracy:  0.9014084507042254\n"
     ]
    }
   ],
   "source": [
    "# Check the model accuracy\n",
    "\n",
    "test_scaled = scaler.transform(X_test)\n",
    "\n",
    "print( 'accuracy: ', clf.score(test_scaled, y_test))"
   ]
  },
  {
   "cell_type": "code",
   "execution_count": 49,
   "id": "4eee629c-ac74-47e4-b5d9-8dfbe1fbd05b",
   "metadata": {},
   "outputs": [
    {
     "data": {
      "text/plain": [
       "array([ 0.1553237 ,  0.283279  , -1.20866437,  0.        ,  0.75077953,\n",
       "       -1.29102412,  1.33044683,  0.41935158, -0.7180043 ,  1.41913688,\n",
       "       -1.60978771, -1.35352199])"
      ]
     },
     "execution_count": 49,
     "metadata": {},
     "output_type": "execute_result"
    }
   ],
   "source": [
    "# Data Viz\n",
    "cm_bright = ListedColormap([\"#FF0000\", \"#0000FF\"])\n",
    "\n",
    "# ax = plt.subplot()\n",
    "# X_train[0]\n",
    "\n",
    "# plt.scatter(\n",
    "#             X_train[:, 0],\n",
    "#             X_train[:, 1],\n",
    "#             c=y_train,\n",
    "#             cmap=cm_bright,\n",
    "#             edgecolors=\"black\",\n",
    "#             s=25,\n",
    "#         )\n",
    "#         # and testing points\n",
    "# plt.scatter(\n",
    "#     X_test[:, 0],\n",
    "#     X_test[:, 1],\n",
    "#     c=y_test,\n",
    "#     cmap=cm_bright,\n",
    "#     alpha=0.6,\n",
    "#     edgecolors=\"black\",\n",
    "#     s=25,\n",
    "# )\n",
    "# plt.show\n",
    "test_scaled[0]"
   ]
  },
  {
   "cell_type": "code",
   "execution_count": 60,
   "id": "69256b6e-a1ae-44f7-a832-6a4ab8213907",
   "metadata": {},
   "outputs": [
    {
     "name": "stdout",
     "output_type": "stream",
     "text": [
      "Shape before PCA:  (71, 12)\n",
      "Shape after PCA:  (71, 2)\n"
     ]
    },
    {
     "data": {
      "text/plain": [
       "array([[ 1.34640297e+00,  6.78437343e-01],\n",
       "       [-2.06525385e+00, -4.90302152e-01],\n",
       "       [-1.13215953e+00, -8.57627944e-01],\n",
       "       [-7.70726674e-01, -4.66277322e-01],\n",
       "       [-9.86265279e-01, -7.02444795e-01],\n",
       "       [-9.62967056e-01, -5.45882413e-01],\n",
       "       [-1.22409932e-01, -1.83665382e+00],\n",
       "       [-3.51899602e-01, -1.35702315e+00],\n",
       "       [-2.59879835e-01, -1.33978762e+00],\n",
       "       [-1.42807364e+00,  9.30871630e-01],\n",
       "       [-2.53097418e-01,  3.54553564e+00],\n",
       "       [ 1.47100891e+00, -2.28694116e-01],\n",
       "       [ 3.62974491e+00, -1.01949274e+00],\n",
       "       [ 1.44651487e+00,  2.40291558e+00],\n",
       "       [ 2.96543794e-01,  4.14423129e-01],\n",
       "       [-8.82925700e-01, -7.54292667e-02],\n",
       "       [-1.87285973e+00,  4.64070323e-01],\n",
       "       [ 3.86193458e+00, -3.06029134e+00],\n",
       "       [-5.39970082e-01, -9.68329540e-01],\n",
       "       [-2.26872286e+00, -1.37804455e+00],\n",
       "       [ 8.29631861e-01, -1.52821324e+00],\n",
       "       [ 4.49441186e+00, -2.57754487e+00],\n",
       "       [ 4.01464928e-01, -2.14303879e+00],\n",
       "       [ 1.89702916e+00,  3.95796030e-03],\n",
       "       [ 6.92319029e-01,  2.36927059e-02],\n",
       "       [ 4.24410269e-01, -1.93114440e+00],\n",
       "       [-1.83848935e+00, -1.68121518e+00],\n",
       "       [-1.49294542e+00, -1.12639831e+00],\n",
       "       [ 2.48691975e+00, -1.50227740e+00],\n",
       "       [-8.55748603e-01,  2.29842392e+00],\n",
       "       [ 1.48763871e-01, -1.35669579e+00],\n",
       "       [-1.34088994e+00,  1.20582576e+00],\n",
       "       [ 1.69469993e+00, -4.05846988e-01],\n",
       "       [-1.10898920e-01,  7.95873102e-01],\n",
       "       [-8.63403674e-01, -6.64023102e-01],\n",
       "       [-6.57526629e-01,  1.76228007e+00],\n",
       "       [ 1.92626743e+00,  2.59450126e+00],\n",
       "       [-3.37260750e+00,  1.53157947e-01],\n",
       "       [ 4.92286283e+00,  2.78915631e+00],\n",
       "       [-7.41555219e-01, -7.41013772e-01],\n",
       "       [ 5.51783645e-01,  3.65589399e+00],\n",
       "       [ 4.52035516e-01, -7.74583399e-01],\n",
       "       [ 3.67436983e-01, -1.61932515e+00],\n",
       "       [-8.78049374e-01,  1.83877647e+00],\n",
       "       [ 1.13222567e+00, -2.07840797e+00],\n",
       "       [-1.80836459e+00,  1.04867610e+00],\n",
       "       [ 2.89363425e-01,  1.68169264e+00],\n",
       "       [ 1.27854950e+00,  7.86845833e-01],\n",
       "       [ 3.10240469e-01,  1.37136373e+00],\n",
       "       [ 1.30883144e+00,  2.96009899e+00],\n",
       "       [ 9.90872668e-01, -3.43314142e-01],\n",
       "       [ 2.33182305e+00, -2.18956248e+00],\n",
       "       [-1.80916724e+00, -1.52980430e-01],\n",
       "       [-1.18297088e+00, -5.67528100e-01],\n",
       "       [-1.65089891e+00,  3.52528803e-01],\n",
       "       [-4.73442706e-01,  1.34160002e+00],\n",
       "       [-1.67022300e+00, -7.48516540e-01],\n",
       "       [ 9.87577186e-01, -1.83341011e+00],\n",
       "       [-1.52566009e+00, -1.34306283e+00],\n",
       "       [-8.83082625e-01,  8.72153604e-01],\n",
       "       [-1.67989791e+00, -6.84142937e-01],\n",
       "       [ 1.74881047e+00,  1.52648856e+00],\n",
       "       [-3.17574074e+00, -4.69766968e-01],\n",
       "       [-2.54847024e-01, -1.37409868e+00],\n",
       "       [-1.57158555e+00,  3.17436898e+00],\n",
       "       [ 1.13992982e+00,  2.37871000e+00],\n",
       "       [-1.74269453e+00, -1.65021644e-01],\n",
       "       [-2.46444678e-01, -1.55356987e-01],\n",
       "       [-2.54577555e+00, -4.73600250e-01],\n",
       "       [ 3.30125448e+00,  1.51700998e+00],\n",
       "       [ 1.08456548e-01,  3.87040846e-01]])"
      ]
     },
     "execution_count": 60,
     "metadata": {},
     "output_type": "execute_result"
    }
   ],
   "source": [
    "# Dimensionality Reduction\n",
    "\n",
    "pca = PCA(n_components=2)\n",
    "pca_features = pca.fit_transform(test_scaled)\n",
    "\n",
    "print('Shape before PCA: ', test_scaled.shape)\n",
    "print('Shape after PCA: ', pca_features.shape)\n",
    "\n",
    "pca_df = pd.DataFrame(\n",
    "    data=pca_features, \n",
    "    columns=['PC1', 'PC2'])\n",
    "\n",
    "pca_features"
   ]
  },
  {
   "cell_type": "code",
   "execution_count": 65,
   "id": "00781a32-b242-4d07-98c6-9cec0763e9d7",
   "metadata": {},
   "outputs": [
    {
     "data": {
      "text/plain": [
       "<function matplotlib.pyplot.show(close=None, block=None)>"
      ]
     },
     "execution_count": 65,
     "metadata": {},
     "output_type": "execute_result"
    },
    {
     "data": {
      "image/png": "[encoded data removed]",
      "text/plain": [
       "<Figure size 640x480 with 1 Axes>"
      ]
     },
     "metadata": {},
     "output_type": "display_data"
    }
   ],
   "source": [
    "x = pca_df['PC1']\n",
    "y = pca_df['PC2']\n",
    "\n",
    "plt.scatter(x, y)\n",
    "plt.show"
   ]
  },
  {
   "cell_type": "code",
   "execution_count": 71,
   "id": "7e496c65-a960-41a5-b639-aefd371b4abd",
   "metadata": {},
   "outputs": [
    {
     "name": "stdout",
     "output_type": "stream",
     "text": [
      "Estimated number of clusters: 2\n",
      "Estimated number of noise points: 21\n"
     ]
    }
   ],
   "source": [
    "# Unsupervised clustering of training data\n",
    "db = DBSCAN(min_samples=5, eps=0.8).fit(pca_features)\n",
    "labels = db.labels_\n",
    "\n",
    "# Number of clusters in labels, ignoring noise if present.\n",
    "n_clusters_ = len(set(labels)) - (1 if -1 in labels else 0)\n",
    "n_noise_ = list(labels).count(-1)\n",
    "\n",
    "\n",
    "print(\"Estimated number of clusters: %d\" % n_clusters_)\n",
    "print(\"Estimated number of noise points: %d\" % n_noise_)"
   ]
  }
 ],
 "metadata": {
  "kernelspec": {
   "display_name": "Python 3 (ipykernel)",
   "language": "python",
   "name": "python3"
  },
  "language_info": {
   "codemirror_mode": {
    "name": "ipython",
    "version": 3
   },
   "file_extension": ".py",
   "mimetype": "text/x-python",
   "name": "python",
   "nbconvert_exporter": "python",
   "pygments_lexer": "ipython3",
   "version": "3.9.13"
  }
 },
 "nbformat": 4,
 "nbformat_minor": 5
}
