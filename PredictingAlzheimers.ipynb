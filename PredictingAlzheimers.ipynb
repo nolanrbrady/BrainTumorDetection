{
 "cells": [
  {
   "cell_type": "code",
   "execution_count": 1,
   "id": "143199df-9147-40b4-84c3-5a6e90984974",
   "metadata": {},
   "outputs": [
    {
     "name": "stderr",
     "output_type": "stream",
     "text": [
      "2023-01-12 11:40:02.606122: I tensorflow/core/platform/cpu_feature_guard.cc:193] This TensorFlow binary is optimized with oneAPI Deep Neural Network Library (oneDNN) to use the following CPU instructions in performance-critical operations:  AVX2 FMA\n",
      "To enable them in other operations, rebuild TensorFlow with the appropriate compiler flags.\n"
     ]
    }
   ],
   "source": [
    "import pandas as pd\n",
    "import numpy as np\n",
    "\n",
    "# Packages for Image clustering\n",
    "from collections import defaultdict\n",
    "import random\n",
    "import numpy as np\n",
    "import tensorflow as tf\n",
    "import tensorflow_addons as tfa\n",
    "from tensorflow import keras\n",
    "from tensorflow.keras import layers\n",
    "import matplotlib.pyplot as plt\n",
    "from tqdm import tqdm\n",
    "\n",
    "# Working with Images\n",
    "import os\n",
    "from os import listdir\n",
    "\n",
    "from sklearn.cluster import KMeans\n",
    "from sklearn import preprocessing\n",
    "from sklearn.model_selection import train_test_split\n",
    "from sklearn.neural_network import MLPClassifier\n",
    "import pandas as pd\n",
    "import numpy as np\n",
    "from tqdm import tqdm\n",
    "import os\n",
    "import shutil\n",
    "from sklearn.cluster import KMeans"
   ]
  },
  {
   "cell_type": "code",
   "execution_count": 2,
   "id": "ec1b8027-b279-42cb-9305-b01f9737c88a",
   "metadata": {},
   "outputs": [],
   "source": [
    "# Import the Dataset\n",
    "# CDR --> Clinical Dementia rating\n",
    "# MMSE --> Mini mental state evaluation\n",
    "# SES --> socioeconomic status\n",
    "# eTIV --> Estimated intracranial volume\n",
    "# nWBV --> normalize whole brain volume\n",
    "cross_section = pd.read_csv('./AlzheimersDataset/oasis_cross-sectional.csv')\n",
    "longitudinal = pd.read_csv('./AlzheimersDataset/oasis_longitudinal.csv')"
   ]
  },
  {
   "cell_type": "code",
   "execution_count": 3,
   "id": "415a5f3e-0b13-44c8-89da-4ef7267b9c6e",
   "metadata": {},
   "outputs": [
    {
     "data": {
      "text/plain": [
       "0      OAS2_0001_MR1\n",
       "1      OAS2_0001_MR2\n",
       "5      OAS2_0004_MR1\n",
       "6      OAS2_0004_MR2\n",
       "7      OAS2_0005_MR1\n",
       "           ...      \n",
       "368    OAS2_0185_MR2\n",
       "369    OAS2_0185_MR3\n",
       "370    OAS2_0186_MR1\n",
       "371    OAS2_0186_MR2\n",
       "372    OAS2_0186_MR3\n",
       "Name: MRI ID, Length: 354, dtype: object"
      ]
     },
     "execution_count": 3,
     "metadata": {},
     "output_type": "execute_result"
    }
   ],
   "source": [
    "# Clean the NaN data\n",
    "longitudinal = longitudinal.dropna()\n",
    "longitudinal.pop('Subject ID')\n",
    "longitudinal.pop('MRI ID')"
   ]
  },
  {
   "cell_type": "code",
   "execution_count": 4,
   "id": "e0390c9a-eb54-459c-b1da-477ac86511ff",
   "metadata": {},
   "outputs": [
    {
     "data": {
      "text/plain": [
       "0      Nondemented\n",
       "1      Nondemented\n",
       "5      Nondemented\n",
       "6      Nondemented\n",
       "7      Nondemented\n",
       "          ...     \n",
       "368       Demented\n",
       "369       Demented\n",
       "370    Nondemented\n",
       "371    Nondemented\n",
       "372    Nondemented\n",
       "Name: Group, Length: 354, dtype: object"
      ]
     },
     "execution_count": 4,
     "metadata": {},
     "output_type": "execute_result"
    }
   ],
   "source": [
    "# Convert Categorical columns to numeric\n",
    "columns = ['M/F', 'Hand']\n",
    "\n",
    "y = longitudinal.pop('Group')\n",
    "\n",
    "# M = 0; F = 1\n",
    "# Nondemented = 0; Demented = 1\n",
    "# Right handed = 0\n",
    "\n",
    "for column in columns:\n",
    "    longitudinal[column] = pd.factorize(longitudinal[column])[0]\n",
    "    \n",
    "x = longitudinal"
   ]
  },
  {
   "cell_type": "code",
   "execution_count": 5,
   "id": "06b1e35b-365c-4207-8df8-6a5691770623",
   "metadata": {},
   "outputs": [
    {
     "name": "stdout",
     "output_type": "stream",
     "text": [
      "283 71 283 71\n"
     ]
    }
   ],
   "source": [
    "# Split the dataset\n",
    "X_train, X_test, y_train, y_test = train_test_split(x, y, test_size=0.2, random_state=42)\n",
    "\n",
    "print(len(X_train), len(X_test), len(y_train), len(y_test))"
   ]
  },
  {
   "cell_type": "code",
   "execution_count": 6,
   "id": "c7708a23-b40d-49a8-8074-e11cbd658b4f",
   "metadata": {},
   "outputs": [],
   "source": [
    "# Scaling X_train\n",
    "scaler = preprocessing.StandardScaler().fit(X_train)\n",
    "\n",
    "X_scaled = scaler.transform(X_train)\n"
   ]
  },
  {
   "cell_type": "code",
   "execution_count": 14,
   "id": "10dba14c-e6cc-4a9c-adb3-7e4d45b00ad1",
   "metadata": {},
   "outputs": [
    {
     "data": {
      "text/plain": [
       "MLPClassifier(alpha=1e-05, max_iter=1000, random_state=1)"
      ]
     },
     "execution_count": 14,
     "metadata": {},
     "output_type": "execute_result"
    }
   ],
   "source": [
    "# Using Multi-layer preceptron for prediction\n",
    "\n",
    "clf = MLPClassifier(alpha=1e-5, random_state=1, max_iter=1000)\n",
    "clf.fit(X_scaled, y_train)"
   ]
  },
  {
   "cell_type": "code",
   "execution_count": 17,
   "id": "b19ee3dd-206e-463a-82bc-e0953ecf10b5",
   "metadata": {},
   "outputs": [
    {
     "name": "stdout",
     "output_type": "stream",
     "text": [
      "accuracy:  0.5211267605633803\n"
     ]
    },
    {
     "name": "stderr",
     "output_type": "stream",
     "text": [
      "/Users/nolanbrady/opt/anaconda3/lib/python3.9/site-packages/sklearn/base.py:443: UserWarning: X has feature names, but MLPClassifier was fitted without feature names\n",
      "  warnings.warn(\n",
      "/Users/nolanbrady/opt/anaconda3/lib/python3.9/site-packages/sklearn/base.py:443: UserWarning: X has feature names, but MLPClassifier was fitted without feature names\n",
      "  warnings.warn(\n"
     ]
    }
   ],
   "source": [
    "pred = clf.predict(X_test)\n",
    "pred\n",
    "# y_test\n",
    "\n",
    "print( 'accuracy: ',clf.score(X_test, y_test, sample_weight=None ))"
   ]
  }
 ],
 "metadata": {
  "kernelspec": {
   "display_name": "Python 3 (ipykernel)",
   "language": "python",
   "name": "python3"
  },
  "language_info": {
   "codemirror_mode": {
    "name": "ipython",
    "version": 3
   },
   "file_extension": ".py",
   "mimetype": "text/x-python",
   "name": "python",
   "nbconvert_exporter": "python",
   "pygments_lexer": "ipython3",
   "version": "3.9.13"
  }
 },
 "nbformat": 4,
 "nbformat_minor": 5
}
