{
 "cells": [
  {
   "cell_type": "code",
   "execution_count": 33,
   "id": "143199df-9147-40b4-84c3-5a6e90984974",
   "metadata": {},
   "outputs": [],
   "source": [
    "import pandas as pd\n",
    "import numpy as np\n",
    "\n",
    "# Packages for Image clustering\n",
    "from collections import defaultdict\n",
    "import random\n",
    "import numpy as np\n",
    "import tensorflow as tf\n",
    "import tensorflow_addons as tfa\n",
    "from tensorflow import keras\n",
    "from tensorflow.keras import layers\n",
    "import matplotlib.pyplot as plt\n",
    "from matplotlib.colors import ListedColormap\n",
    "from tqdm import tqdm\n",
    "\n",
    "\n",
    "# Sklearn Packages\n",
    "from sklearn.cluster import KMeans\n",
    "from sklearn import preprocessing\n",
    "from sklearn.model_selection import train_test_split\n",
    "from sklearn.neural_network import MLPClassifier\n",
    "from sklearn.model_selection import GridSearchCV\n",
    "from sklearn.cluster import DBSCAN\n",
    "from sklearn.decomposition import PCA\n",
    "\n",
    "import pandas as pd\n",
    "import numpy as np\n",
    "from tqdm import tqdm\n",
    "import os\n",
    "import shutil\n",
    "from sklearn.cluster import KMeans"
   ]
  },
  {
   "cell_type": "code",
   "execution_count": 2,
   "id": "ec1b8027-b279-42cb-9305-b01f9737c88a",
   "metadata": {},
   "outputs": [],
   "source": [
    "# Import the Dataset\n",
    "# CDR --> Clinical Dementia rating\n",
    "# MMSE --> Mini mental state evaluation\n",
    "# SES --> socioeconomic status\n",
    "# eTIV --> Estimated intracranial volume\n",
    "# nWBV --> normalize whole brain volume\n",
    "cross_section = pd.read_csv('./AlzheimersDataset/oasis_cross-sectional.csv')\n",
    "longitudinal = pd.read_csv('./AlzheimersDataset/oasis_longitudinal.csv')"
   ]
  },
  {
   "cell_type": "code",
   "execution_count": null,
   "id": "415a5f3e-0b13-44c8-89da-4ef7267b9c6e",
   "metadata": {},
   "outputs": [],
   "source": [
    "# Clean the NaN data\n",
    "longitudinal = longitudinal.dropna()\n",
    "longitudinal.pop('Subject ID')\n",
    "longitudinal.pop('MRI ID')"
   ]
  },
  {
   "cell_type": "code",
   "execution_count": 4,
   "id": "e0390c9a-eb54-459c-b1da-477ac86511ff",
   "metadata": {},
   "outputs": [],
   "source": [
    "# Convert Categorical columns to numeric\n",
    "columns = ['M/F', 'Hand']\n",
    "# columns = ['M/F', 'Group', 'Hand']\n",
    "\n",
    "# M = 0; F = 1\n",
    "# Nondemented = 0; Demented = 1\n",
    "# Right handed = 0\n",
    "\n",
    "y = longitudinal.pop('Group')\n",
    "\n",
    "for column in columns:\n",
    "    longitudinal[column] = pd.factorize(longitudinal[column])[0]\n",
    "\n",
    "x = longitudinal"
   ]
  },
  {
   "cell_type": "code",
   "execution_count": 5,
   "id": "06b1e35b-365c-4207-8df8-6a5691770623",
   "metadata": {},
   "outputs": [
    {
     "name": "stdout",
     "output_type": "stream",
     "text": [
      "283 71 283 71\n"
     ]
    }
   ],
   "source": [
    "# Split the dataset\n",
    "X_train, X_test, y_train, y_test = train_test_split(x, y, test_size=0.2, random_state=42)\n",
    "\n",
    "print(len(X_train), len(X_test), len(y_train), len(y_test))"
   ]
  },
  {
   "cell_type": "code",
   "execution_count": 6,
   "id": "c7708a23-b40d-49a8-8074-e11cbd658b4f",
   "metadata": {},
   "outputs": [],
   "source": [
    "# Scaling X_train\n",
    "scaler = preprocessing.StandardScaler().fit(X_train)\n",
    "\n",
    "X_scaled = scaler.transform(X_train)\n"
   ]
  },
  {
   "cell_type": "code",
   "execution_count": 7,
   "id": "10dba14c-e6cc-4a9c-adb3-7e4d45b00ad1",
   "metadata": {},
   "outputs": [],
   "source": [
    "# Find the best combinationo of parameters for the algorithm\n",
    "\n",
    "# param_grid = [\n",
    "#         {\n",
    "#             'activation' : ['identity', 'logistic', 'tanh', 'relu'],\n",
    "#             'solver' : ['lbfgs', 'sgd', 'adam'],\n",
    "#             'hidden_layer_sizes': [\n",
    "#              (1,),(2,),(3,),(4,),(5,),(6,),(7,),(8,),(9,),(10,),(11,), (12,),(13,),(14,),(15,),(16,),(17,),(18,),(19,),(20,),(21,)\n",
    "#              ]\n",
    "#         }\n",
    "#        ]\n",
    "\n",
    "\n",
    "# clf = GridSearchCV(MLPClassifier(max_iter=5000), param_grid, cv=3, scoring='accuracy')\n",
    "\n",
    "# clf.fit(X_scaled, y_train)\n",
    "\n",
    "# print(\"Best parameters set found on development set:\")\n",
    "# print(clf.best_params_)\n",
    "\n",
    "# ---------- RETURNS ------------------\n",
    "# Best parameters set found on development set:\n",
    "# {'activation': 'identity', 'hidden_layer_sizes': (16,), 'solver': 'sgd'}\n"
   ]
  },
  {
   "cell_type": "code",
   "execution_count": 8,
   "id": "eb8af73e-e24e-4956-ba7b-03b499180b4b",
   "metadata": {},
   "outputs": [
    {
     "data": {
      "text/plain": [
       "MLPClassifier(activation='identity', hidden_layer_sizes=(16,), max_iter=5000,\n",
       "              random_state=1, solver='sgd')"
      ]
     },
     "execution_count": 8,
     "metadata": {},
     "output_type": "execute_result"
    }
   ],
   "source": [
    "clf = MLPClassifier(activation='identity', solver='sgd', hidden_layer_sizes=(16,), random_state=1, max_iter=5000)\n",
    "\n",
    "clf.fit(X_scaled, y_train)"
   ]
  },
  {
   "cell_type": "code",
   "execution_count": 10,
   "id": "bab4706b-6577-42bc-8d72-419cb36668d6",
   "metadata": {},
   "outputs": [
    {
     "name": "stdout",
     "output_type": "stream",
     "text": [
      "accuracy:  0.9014084507042254\n"
     ]
    }
   ],
   "source": [
    "# Check the model accuracy\n",
    "\n",
    "test_scaled = scaler.transform(X_test)\n",
    "\n",
    "print( 'accuracy: ', clf.score(test_scaled, y_test))"
   ]
  },
  {
   "cell_type": "code",
   "execution_count": 49,
   "id": "4eee629c-ac74-47e4-b5d9-8dfbe1fbd05b",
   "metadata": {},
   "outputs": [
    {
     "data": {
      "text/plain": [
       "array([ 0.1553237 ,  0.283279  , -1.20866437,  0.        ,  0.75077953,\n",
       "       -1.29102412,  1.33044683,  0.41935158, -0.7180043 ,  1.41913688,\n",
       "       -1.60978771, -1.35352199])"
      ]
     },
     "execution_count": 49,
     "metadata": {},
     "output_type": "execute_result"
    }
   ],
   "source": [
    "# Data Viz\n",
    "cm_bright = ListedColormap([\"#FF0000\", \"#0000FF\"])\n",
    "\n",
    "# ax = plt.subplot()\n",
    "# X_train[0]\n",
    "\n",
    "# plt.scatter(\n",
    "#             X_train[:, 0],\n",
    "#             X_train[:, 1],\n",
    "#             c=y_train,\n",
    "#             cmap=cm_bright,\n",
    "#             edgecolors=\"black\",\n",
    "#             s=25,\n",
    "#         )\n",
    "#         # and testing points\n",
    "# plt.scatter(\n",
    "#     X_test[:, 0],\n",
    "#     X_test[:, 1],\n",
    "#     c=y_test,\n",
    "#     cmap=cm_bright,\n",
    "#     alpha=0.6,\n",
    "#     edgecolors=\"black\",\n",
    "#     s=25,\n",
    "# )\n",
    "# plt.show\n",
    "test_scaled[0]"
   ]
  },
  {
   "cell_type": "code",
   "execution_count": null,
   "id": "69256b6e-a1ae-44f7-a832-6a4ab8213907",
   "metadata": {},
   "outputs": [],
   "source": [
    "# Dimensionality Reduction\n",
    "\n",
    "pca = PCA(n_components=2)\n",
    "pca_features = pca.fit_transform(X_scaled)\n",
    "\n",
    "print('Shape before PCA: ', test_scaled.shape)\n",
    "print('Shape after PCA: ', pca_features.shape)\n",
    "\n",
    "pca_df = pd.DataFrame(\n",
    "    data=pca_features, \n",
    "    columns=['PC1', 'PC2'])\n",
    "\n",
    "pca_features"
   ]
  },
  {
   "cell_type": "code",
   "execution_count": 114,
   "id": "7e496c65-a960-41a5-b639-aefd371b4abd",
   "metadata": {},
   "outputs": [
    {
     "name": "stdout",
     "output_type": "stream",
     "text": [
      "Estimated number of clusters: 3\n",
      "Estimated number of noise points: 136\n"
     ]
    }
   ],
   "source": [
    "# Unsupervised clustering of training data\n",
    "db = DBSCAN(min_samples=12, eps=0.5).fit(pca_features)\n",
    "labels = db.labels_\n",
    "\n",
    "# Number of clusters in labels, ignoring noise if present.\n",
    "n_clusters_ = len(set(labels)) - (1 if -1 in labels else 0)\n",
    "n_noise_ = list(labels).count(-1)\n",
    "\n",
    "\n",
    "print(\"Estimated number of clusters: %d\" % n_clusters_)\n",
    "print(\"Estimated number of noise points: %d\" % n_noise_)"
   ]
  },
  {
   "cell_type": "code",
   "execution_count": 117,
   "id": "d34e1395-0c36-4cb8-baf1-ca0b1cae3a74",
   "metadata": {},
   "outputs": [
    {
     "data": {
      "text/plain": [
       "371    Nondemented\n",
       "213    Nondemented\n",
       "362    Nondemented\n",
       "190    Nondemented\n",
       "81       Converted\n",
       "          ...     \n",
       "77        Demented\n",
       "112    Nondemented\n",
       "282    Nondemented\n",
       "367       Demented\n",
       "108    Nondemented\n",
       "Name: Group, Length: 283, dtype: object"
      ]
     },
     "execution_count": 117,
     "metadata": {},
     "output_type": "execute_result"
    }
   ],
   "source": [
    "y_train\n"
   ]
  },
  {
   "cell_type": "code",
   "execution_count": 115,
   "id": "5ca1c6c2-c7f7-4b40-a8e7-0df4008e3939",
   "metadata": {},
   "outputs": [
    {
     "name": "stdout",
     "output_type": "stream",
     "text": [
      "Catch clause\n",
      "Catch clause\n",
      "Catch clause\n",
      "Catch clause\n",
      "Catch clause\n",
      "Catch clause\n",
      "Catch clause\n"
     ]
    }
   ],
   "source": [
    "cluster_a = []\n",
    "cluster_b = []\n",
    "noise = []\n",
    "\n",
    "for i in range(len(labels)):\n",
    "    label = labels[i]\n",
    "    item = pca_features[i]\n",
    "    truth = 'yellow' if y_train[i] == 'Demented' else 'black'\n",
    "    if label == -1:\n",
    "        noise.append(item)\n",
    "    elif label == 0:\n",
    "        cluster_a.append(item)\n",
    "    elif label == 1:\n",
    "        cluster_b.append(item)\n",
    "    else:\n",
    "        print('Catch clause')\n",
    "        "
   ]
  },
  {
   "cell_type": "code",
   "execution_count": 116,
   "id": "f821f6df-ad32-432e-bfa0-9e79a4377a7c",
   "metadata": {},
   "outputs": [
    {
     "data": {
      "text/plain": [
       "<function matplotlib.pyplot.show(close=None, block=None)>"
      ]
     },
     "execution_count": 116,
     "metadata": {},
     "output_type": "execute_result"
    },
    {
     "data": {
      "image/png": "[encoded data removed]",
      "text/plain": [
       "<Figure size 640x480 with 1 Axes>"
      ]
     },
     "metadata": {},
     "output_type": "display_data"
    }
   ],
   "source": [
    "# Graph the DBSCAN clusters\n",
    "cluster_a_df = pd.DataFrame(cluster_a, columns = ['x','y'])\n",
    "cluster_b_df = pd.DataFrame(cluster_b, columns = ['x','y'])\n",
    "noise_df = pd.DataFrame(noise, columns = ['x','y'])\n",
    "\n",
    "\n",
    "plt.scatter(cluster_a_df['x'], cluster_a_df['y'], c='blue', edgecolors= alpha=0.5)\n",
    "plt.scatter(cluster_b_df['x'], cluster_b_df['y'], c='green', alpha=0.5)\n",
    "plt.scatter(noise_df['x'], noise_df['y'], c='red', alpha=0.5)\n",
    "\n",
    "plt.show\n"
   ]
  }
 ],
 "metadata": {
  "kernelspec": {
   "display_name": "Python 3 (ipykernel)",
   "language": "python",
   "name": "python3"
  },
  "language_info": {
   "codemirror_mode": {
    "name": "ipython",
    "version": 3
   },
   "file_extension": ".py",
   "mimetype": "text/x-python",
   "name": "python",
   "nbconvert_exporter": "python",
   "pygments_lexer": "ipython3",
   "version": "3.9.13"
  }
 },
 "nbformat": 4,
 "nbformat_minor": 5
}
