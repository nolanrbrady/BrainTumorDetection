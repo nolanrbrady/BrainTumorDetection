{
 "cells": [
  {
   "cell_type": "markdown",
   "id": "beadd035-54d3-4da0-9873-af5fe40d24f1",
   "metadata": {},
   "source": [
    "### Brain Tumor Image Clustering"
   ]
  },
  {
   "cell_type": "code",
   "execution_count": 4,
   "id": "8cdc334e-5c68-4301-861e-fe2d6a254e65",
   "metadata": {},
   "outputs": [],
   "source": [
    "import pandas as pd\n",
    "import numpy as np\n",
    "\n",
    "# Packages for Image clustering\n",
    "from collections import defaultdict\n",
    "import random\n",
    "import numpy as np\n",
    "import tensorflow as tf\n",
    "import tensorflow_addons as tfa\n",
    "from tensorflow import keras\n",
    "from tensorflow.keras import layers\n",
    "import matplotlib.pyplot as plt\n",
    "from tqdm import tqdm\n",
    "\n",
    "# Working with Images\n",
    "import os\n",
    "from os import listdir\n",
    "import skimage\n",
    "from skimage import data\n",
    "from skimage.io import imread, imshow"
   ]
  },
  {
   "cell_type": "code",
   "execution_count": 8,
   "id": "63948c15-6c9c-4ae1-9550-e8f1ddda06d9",
   "metadata": {},
   "outputs": [],
   "source": [
    "DATASET_DIR = \"./BrainTumorsData/no\"\n",
    "\n",
    "# image = imread(f'./10no.jpg', as_gray=True)\n",
    "# imshow(image)\n",
    "# image.shape, image\n",
    "\n",
    "X_train = pd.DataFrame()\n",
    "Y_train = pd.DataFrame()\n",
    "\n",
    "# Populate X_train DataFrame\n",
    "for images in os.listdir(DATASET_DIR):\n",
    "    # check if the image ends with png\n",
    "    if (images.endswith(\".jpg\")):\n",
    "        image = imread(os.rename(f'{DATASET_DIR}/{images}', images.replace(\" \", \"\")))\n",
    "        imshow(image)\n",
    "    "
   ]
  }
 ],
 "metadata": {
  "kernelspec": {
   "display_name": "Python 3 (ipykernel)",
   "language": "python",
   "name": "python3"
  },
  "language_info": {
   "codemirror_mode": {
    "name": "ipython",
    "version": 3
   },
   "file_extension": ".py",
   "mimetype": "text/x-python",
   "name": "python",
   "nbconvert_exporter": "python",
   "pygments_lexer": "ipython3",
   "version": "3.9.13"
  }
 },
 "nbformat": 4,
 "nbformat_minor": 5
}
